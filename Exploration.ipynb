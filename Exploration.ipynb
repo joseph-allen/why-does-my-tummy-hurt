{
 "cells": [
  {
   "cell_type": "markdown",
   "id": "5e91d50d-c4ad-4b97-a168-05fcfbce61e1",
   "metadata": {},
   "source": [
    "# Why does my tummy hurt?\n",
    "My tummy hurts after a lot of meals, sometimes my eyes go blurry. What is that about?\n",
    "Do you want to find out? Please enjoy my open-source tummy data.\n",
    "\n",
    "Symptom data rates on a scale of 1 to 5 being not present to unbearable."
   ]
  },
  {
   "cell_type": "code",
   "execution_count": 51,
   "id": "d309646b-4098-47c9-a617-2d33b9fe810e",
   "metadata": {},
   "outputs": [],
   "source": [
    "import numpy as np\n",
    "import pandas as pd\n",
    "import matplotlib.pyplot as plt\n",
    "import seaborn as sns\n",
    "\n",
    "# plot styles\n",
    "plt.style.use('seaborn-whitegrid')\n",
    "plt.rcParams.update({'font.size': 22,\n",
    "                    'figure.figsize':(24,8)})\n",
    "\n",
    "# set seaborn style\n",
    "sns.set(rc={'figure.figsize':(12,8)})\n",
    "sns.set(font_scale=1.5)\n",
    "\n",
    "# create UKDS color palette\n",
    "# colors = ['#E03A6C', '#F5AD42', '#6C2B76']\n",
    "colors = ['#E03A6C', '#F5AD42', '#ECE64B', '#449858', '#43A6C6', '#6C2B76']\n",
    "\n",
    "# use n_colors to allow the colors to cycle\n",
    "palette = sns.set_palette(sns.color_palette(colors), n_colors=100)"
   ]
  },
  {
   "cell_type": "code",
   "execution_count": 52,
   "id": "7a98bd09-621b-47cf-a276-b8fc3b3a017b",
   "metadata": {},
   "outputs": [
    {
     "data": {
      "text/html": [
       "<div>\n",
       "<style scoped>\n",
       "    .dataframe tbody tr th:only-of-type {\n",
       "        vertical-align: middle;\n",
       "    }\n",
       "\n",
       "    .dataframe tbody tr th {\n",
       "        vertical-align: top;\n",
       "    }\n",
       "\n",
       "    .dataframe thead th {\n",
       "        text-align: right;\n",
       "    }\n",
       "</style>\n",
       "<table border=\"1\" class=\"dataframe\">\n",
       "  <thead>\n",
       "    <tr style=\"text-align: right;\">\n",
       "      <th></th>\n",
       "      <th>Timestamp</th>\n",
       "      <th>Todays Date</th>\n",
       "      <th>What did you eat</th>\n",
       "      <th>How much did you like it?</th>\n",
       "      <th>Allergen</th>\n",
       "      <th>Back pain</th>\n",
       "      <th>Headache</th>\n",
       "      <th>Sleep</th>\n",
       "      <th>Breathing</th>\n",
       "      <th>Bloated</th>\n",
       "      <th>Stomach Pain</th>\n",
       "      <th>Poop</th>\n",
       "      <th>Vision</th>\n",
       "    </tr>\n",
       "  </thead>\n",
       "  <tbody>\n",
       "    <tr>\n",
       "      <th>0</th>\n",
       "      <td>08/10/2021 23:19:19</td>\n",
       "      <td>08/10/2021</td>\n",
       "      <td>Egg and Spicy Cheese bread</td>\n",
       "      <td>NaN</td>\n",
       "      <td>Starch, Dairy, Onions, Spice, Caffeine, Egg</td>\n",
       "      <td>1</td>\n",
       "      <td>1</td>\n",
       "      <td>1</td>\n",
       "      <td>1</td>\n",
       "      <td>5</td>\n",
       "      <td>5</td>\n",
       "      <td>5.0</td>\n",
       "      <td>1</td>\n",
       "    </tr>\n",
       "    <tr>\n",
       "      <th>1</th>\n",
       "      <td>08/10/2021 23:21:58</td>\n",
       "      <td>08/10/2021</td>\n",
       "      <td>Tom Yum and fried potatoes</td>\n",
       "      <td>NaN</td>\n",
       "      <td>Onions, Spice</td>\n",
       "      <td>1</td>\n",
       "      <td>1</td>\n",
       "      <td>1</td>\n",
       "      <td>1</td>\n",
       "      <td>1</td>\n",
       "      <td>1</td>\n",
       "      <td>1.0</td>\n",
       "      <td>1</td>\n",
       "    </tr>\n",
       "    <tr>\n",
       "      <th>2</th>\n",
       "      <td>08/10/2021 23:22:54</td>\n",
       "      <td>08/10/2021</td>\n",
       "      <td>Cheese rice and Lentil Dahl</td>\n",
       "      <td>NaN</td>\n",
       "      <td>Starch, Dairy, Onions, Spice, Tomato</td>\n",
       "      <td>1</td>\n",
       "      <td>1</td>\n",
       "      <td>1</td>\n",
       "      <td>1</td>\n",
       "      <td>3</td>\n",
       "      <td>3</td>\n",
       "      <td>1.0</td>\n",
       "      <td>3</td>\n",
       "    </tr>\n",
       "    <tr>\n",
       "      <th>3</th>\n",
       "      <td>08/10/2021 23:23:23</td>\n",
       "      <td>08/10/2021</td>\n",
       "      <td>Popcorn</td>\n",
       "      <td>NaN</td>\n",
       "      <td>Starch</td>\n",
       "      <td>1</td>\n",
       "      <td>2</td>\n",
       "      <td>1</td>\n",
       "      <td>1</td>\n",
       "      <td>3</td>\n",
       "      <td>3</td>\n",
       "      <td>1.0</td>\n",
       "      <td>3</td>\n",
       "    </tr>\n",
       "    <tr>\n",
       "      <th>4</th>\n",
       "      <td>09/10/2021 12:36:25</td>\n",
       "      <td>09/10/2021</td>\n",
       "      <td>Dahl and cheese rice</td>\n",
       "      <td>NaN</td>\n",
       "      <td>Starch, Dairy, Onions, Spice, Tomato</td>\n",
       "      <td>2</td>\n",
       "      <td>2</td>\n",
       "      <td>1</td>\n",
       "      <td>1</td>\n",
       "      <td>3</td>\n",
       "      <td>3</td>\n",
       "      <td>1.0</td>\n",
       "      <td>1</td>\n",
       "    </tr>\n",
       "  </tbody>\n",
       "</table>\n",
       "</div>"
      ],
      "text/plain": [
       "             Timestamp Todays Date             What did you eat  \\\n",
       "0  08/10/2021 23:19:19  08/10/2021   Egg and Spicy Cheese bread   \n",
       "1  08/10/2021 23:21:58  08/10/2021   Tom Yum and fried potatoes   \n",
       "2  08/10/2021 23:22:54  08/10/2021  Cheese rice and Lentil Dahl   \n",
       "3  08/10/2021 23:23:23  08/10/2021                      Popcorn   \n",
       "4  09/10/2021 12:36:25  09/10/2021         Dahl and cheese rice   \n",
       "\n",
       "   How much did you like it?                                     Allergen  \\\n",
       "0                        NaN  Starch, Dairy, Onions, Spice, Caffeine, Egg   \n",
       "1                        NaN                                Onions, Spice   \n",
       "2                        NaN         Starch, Dairy, Onions, Spice, Tomato   \n",
       "3                        NaN                                       Starch   \n",
       "4                        NaN         Starch, Dairy, Onions, Spice, Tomato   \n",
       "\n",
       "   Back pain  Headache  Sleep  Breathing  Bloated  Stomach Pain  Poop  Vision  \n",
       "0          1         1      1          1        5             5   5.0       1  \n",
       "1          1         1      1          1        1             1   1.0       1  \n",
       "2          1         1      1          1        3             3   1.0       3  \n",
       "3          1         2      1          1        3             3   1.0       3  \n",
       "4          2         2      1          1        3             3   1.0       1  "
      ]
     },
     "execution_count": 52,
     "metadata": {},
     "output_type": "execute_result"
    }
   ],
   "source": [
    "data = pd.read_csv('tummyData.csv')\n",
    "data.head()"
   ]
  },
  {
   "cell_type": "markdown",
   "id": "fd5627f6-82ac-490c-916c-95115ccf9c37",
   "metadata": {},
   "source": [
    "So to start with let's keep it simple. Let's find my favorite, and least favorite meal over this period.\n",
    "\n",
    "# Do I even like what I eat?"
   ]
  },
  {
   "cell_type": "code",
   "execution_count": 53,
   "id": "45eead9d-49f6-451b-84f0-57df2f0139b0",
   "metadata": {},
   "outputs": [
    {
     "data": {
      "text/plain": [
       "<AxesSubplot:>"
      ]
     },
     "execution_count": 53,
     "metadata": {},
     "output_type": "execute_result"
    },
    {
     "data": {
      "image/png": "[encoded data removed]",
      "text/plain": [
       "<Figure size 864x576 with 1 Axes>"
      ]
     },
     "metadata": {},
     "output_type": "display_data"
    }
   ],
   "source": [
    "data['How much did you like it?'].value_counts().sort_index().plot(kind='bar')"
   ]
  },
  {
   "cell_type": "markdown",
   "id": "d32a5a12-780c-418c-a8c5-b02ba6ddb968",
   "metadata": {},
   "source": [
    "It seems like I enjoy most of my meals! What were they?\n",
    "What were the best meals?\n",
    "\n",
    "## The best meals"
   ]
  },
  {
   "cell_type": "code",
   "execution_count": 54,
   "id": "d2117adc-daf4-4658-964c-caa167704dcd",
   "metadata": {},
   "outputs": [
    {
     "data": {
      "text/html": [
       "<div>\n",
       "<style scoped>\n",
       "    .dataframe tbody tr th:only-of-type {\n",
       "        vertical-align: middle;\n",
       "    }\n",
       "\n",
       "    .dataframe tbody tr th {\n",
       "        vertical-align: top;\n",
       "    }\n",
       "\n",
       "    .dataframe thead th {\n",
       "        text-align: right;\n",
       "    }\n",
       "</style>\n",
       "<table border=\"1\" class=\"dataframe\">\n",
       "  <thead>\n",
       "    <tr style=\"text-align: right;\">\n",
       "      <th></th>\n",
       "      <th>Timestamp</th>\n",
       "      <th>Todays Date</th>\n",
       "      <th>What did you eat</th>\n",
       "      <th>How much did you like it?</th>\n",
       "      <th>Allergen</th>\n",
       "      <th>Back pain</th>\n",
       "      <th>Headache</th>\n",
       "      <th>Sleep</th>\n",
       "      <th>Breathing</th>\n",
       "      <th>Bloated</th>\n",
       "      <th>Stomach Pain</th>\n",
       "      <th>Poop</th>\n",
       "      <th>Vision</th>\n",
       "    </tr>\n",
       "  </thead>\n",
       "  <tbody>\n",
       "    <tr>\n",
       "      <th>5</th>\n",
       "      <td>10/10/2021 17:08:39</td>\n",
       "      <td>09/10/2021</td>\n",
       "      <td>Cornish Pasty chips and beer</td>\n",
       "      <td>9.0</td>\n",
       "      <td>Starch - breads and grains, Onions</td>\n",
       "      <td>1</td>\n",
       "      <td>1</td>\n",
       "      <td>1</td>\n",
       "      <td>2</td>\n",
       "      <td>3</td>\n",
       "      <td>3</td>\n",
       "      <td>2.0</td>\n",
       "      <td>1</td>\n",
       "    </tr>\n",
       "    <tr>\n",
       "      <th>26</th>\n",
       "      <td>24/10/2021 13:44:10</td>\n",
       "      <td>23/10/2021</td>\n",
       "      <td>Chicken pizza and kinder bueno cupcake</td>\n",
       "      <td>9.0</td>\n",
       "      <td>Starch - breads and grains, Dairy, Onions, Tom...</td>\n",
       "      <td>3</td>\n",
       "      <td>2</td>\n",
       "      <td>5</td>\n",
       "      <td>2</td>\n",
       "      <td>4</td>\n",
       "      <td>4</td>\n",
       "      <td>2.0</td>\n",
       "      <td>3</td>\n",
       "    </tr>\n",
       "    <tr>\n",
       "      <th>29</th>\n",
       "      <td>24/10/2021 21:07:29</td>\n",
       "      <td>24/10/2021</td>\n",
       "      <td>Chicken Rice</td>\n",
       "      <td>9.0</td>\n",
       "      <td>Starch - breads and grains, Spice, Sugar</td>\n",
       "      <td>1</td>\n",
       "      <td>1</td>\n",
       "      <td>2</td>\n",
       "      <td>1</td>\n",
       "      <td>2</td>\n",
       "      <td>2</td>\n",
       "      <td>1.0</td>\n",
       "      <td>2</td>\n",
       "    </tr>\n",
       "  </tbody>\n",
       "</table>\n",
       "</div>"
      ],
      "text/plain": [
       "              Timestamp Todays Date                        What did you eat  \\\n",
       "5   10/10/2021 17:08:39  09/10/2021            Cornish Pasty chips and beer   \n",
       "26  24/10/2021 13:44:10  23/10/2021  Chicken pizza and kinder bueno cupcake   \n",
       "29  24/10/2021 21:07:29  24/10/2021                            Chicken Rice   \n",
       "\n",
       "    How much did you like it?  \\\n",
       "5                         9.0   \n",
       "26                        9.0   \n",
       "29                        9.0   \n",
       "\n",
       "                                             Allergen  Back pain  Headache  \\\n",
       "5                  Starch - breads and grains, Onions          1         1   \n",
       "26  Starch - breads and grains, Dairy, Onions, Tom...          3         2   \n",
       "29           Starch - breads and grains, Spice, Sugar          1         1   \n",
       "\n",
       "    Sleep  Breathing  Bloated  Stomach Pain  Poop  Vision  \n",
       "5       1          2        3             3   2.0       1  \n",
       "26      5          2        4             4   2.0       3  \n",
       "29      2          1        2             2   1.0       2  "
      ]
     },
     "execution_count": 54,
     "metadata": {},
     "output_type": "execute_result"
    }
   ],
   "source": [
    "data.nlargest(3,'How much did you like it?')"
   ]
  },
  {
   "cell_type": "markdown",
   "id": "6fcb2521-81fa-49ad-a08e-6b6a185fe89e",
   "metadata": {
    "tags": []
   },
   "source": [
    "So my top three meals over this period were:\n",
    "* Cornish pasty, chips and beer\n",
    "* Chicken pizza and a kinder bueno cupcake\n",
    "* Chicken rice\n",
    "\n",
    "Before anybody implies that they think my tummy hurts because of my bad diet, STOP!\n",
    "Yes these things may have made my tummy hurt a little.\n",
    "Let's look at the worst meals.\n",
    "\n",
    "## The worst meals"
   ]
  },
  {
   "cell_type": "code",
   "execution_count": 55,
   "id": "f8f951f9-6fd3-4cd7-9c6f-f520aecec5de",
   "metadata": {},
   "outputs": [
    {
     "data": {
      "text/html": [
       "<div>\n",
       "<style scoped>\n",
       "    .dataframe tbody tr th:only-of-type {\n",
       "        vertical-align: middle;\n",
       "    }\n",
       "\n",
       "    .dataframe tbody tr th {\n",
       "        vertical-align: top;\n",
       "    }\n",
       "\n",
       "    .dataframe thead th {\n",
       "        text-align: right;\n",
       "    }\n",
       "</style>\n",
       "<table border=\"1\" class=\"dataframe\">\n",
       "  <thead>\n",
       "    <tr style=\"text-align: right;\">\n",
       "      <th></th>\n",
       "      <th>Timestamp</th>\n",
       "      <th>Todays Date</th>\n",
       "      <th>What did you eat</th>\n",
       "      <th>How much did you like it?</th>\n",
       "      <th>Allergen</th>\n",
       "      <th>Back pain</th>\n",
       "      <th>Headache</th>\n",
       "      <th>Sleep</th>\n",
       "      <th>Breathing</th>\n",
       "      <th>Bloated</th>\n",
       "      <th>Stomach Pain</th>\n",
       "      <th>Poop</th>\n",
       "      <th>Vision</th>\n",
       "    </tr>\n",
       "  </thead>\n",
       "  <tbody>\n",
       "    <tr>\n",
       "      <th>24</th>\n",
       "      <td>23/10/2021 20:56:08</td>\n",
       "      <td>23/10/2021</td>\n",
       "      <td>Potatoes</td>\n",
       "      <td>3.0</td>\n",
       "      <td>Starch - breads and grains</td>\n",
       "      <td>1</td>\n",
       "      <td>1</td>\n",
       "      <td>4</td>\n",
       "      <td>2</td>\n",
       "      <td>2</td>\n",
       "      <td>2</td>\n",
       "      <td>2.0</td>\n",
       "      <td>1</td>\n",
       "    </tr>\n",
       "    <tr>\n",
       "      <th>44</th>\n",
       "      <td>09/11/2021 13:28:10</td>\n",
       "      <td>09/11/2021</td>\n",
       "      <td>butternut squash soup</td>\n",
       "      <td>5.0</td>\n",
       "      <td>Starch - breads and grains, Dairy, Onions, Spice</td>\n",
       "      <td>1</td>\n",
       "      <td>1</td>\n",
       "      <td>2</td>\n",
       "      <td>1</td>\n",
       "      <td>3</td>\n",
       "      <td>2</td>\n",
       "      <td>1.0</td>\n",
       "      <td>1</td>\n",
       "    </tr>\n",
       "    <tr>\n",
       "      <th>7</th>\n",
       "      <td>10/10/2021 17:10:02</td>\n",
       "      <td>09/10/2021</td>\n",
       "      <td>Chicken Burger chips and Dr Pepper</td>\n",
       "      <td>6.0</td>\n",
       "      <td>Starch - breads and grains, Dairy, Caffeine</td>\n",
       "      <td>1</td>\n",
       "      <td>1</td>\n",
       "      <td>1</td>\n",
       "      <td>1</td>\n",
       "      <td>3</td>\n",
       "      <td>2</td>\n",
       "      <td>1.0</td>\n",
       "      <td>1</td>\n",
       "    </tr>\n",
       "  </tbody>\n",
       "</table>\n",
       "</div>"
      ],
      "text/plain": [
       "              Timestamp Todays Date                    What did you eat  \\\n",
       "24  23/10/2021 20:56:08  23/10/2021                            Potatoes   \n",
       "44  09/11/2021 13:28:10  09/11/2021               butternut squash soup   \n",
       "7   10/10/2021 17:10:02  09/10/2021  Chicken Burger chips and Dr Pepper   \n",
       "\n",
       "    How much did you like it?  \\\n",
       "24                        3.0   \n",
       "44                        5.0   \n",
       "7                         6.0   \n",
       "\n",
       "                                            Allergen  Back pain  Headache  \\\n",
       "24                        Starch - breads and grains          1         1   \n",
       "44  Starch - breads and grains, Dairy, Onions, Spice          1         1   \n",
       "7        Starch - breads and grains, Dairy, Caffeine          1         1   \n",
       "\n",
       "    Sleep  Breathing  Bloated  Stomach Pain  Poop  Vision  \n",
       "24      4          2        2             2   2.0       1  \n",
       "44      2          1        3             2   1.0       1  \n",
       "7       1          1        3             2   1.0       1  "
      ]
     },
     "execution_count": 55,
     "metadata": {},
     "output_type": "execute_result"
    }
   ],
   "source": [
    "data.nsmallest(3,'How much did you like it?')"
   ]
  },
  {
   "cell_type": "markdown",
   "id": "864b9cd8-b252-40e2-86c4-da56d0d57a49",
   "metadata": {},
   "source": [
    "My worst meals of the month was a potato and ome butternut squash soup. Even those gave me a small amount of tummy pain.\n",
    "\n",
    "So I actually rated all my meals over 5 for the entire period, minus these two. I \"liked\" 97% of what I ate.\n",
    "\n",
    "# Allergens\n",
    "On my hunch that this is some sort of allergy or intolerance to something, I tracked some of the common food intolerances. These are stored as comma seperated values so we need a way to unapck these to analyse them properly."
   ]
  },
  {
   "cell_type": "code",
   "execution_count": 56,
   "id": "11b4814d-94d9-4a7e-b769-4530e6cdec83",
   "metadata": {},
   "outputs": [
    {
     "name": "stderr",
     "output_type": "stream",
     "text": [
      "/var/folders/k6/5jfk6t556clfdbn2jmpzglh80000gn/T/ipykernel_3056/1456836646.py:1: FutureWarning: Using the level keyword in DataFrame and Series aggregations is deprecated and will be removed in a future version. Use groupby instead. df.sum(level=1) should use df.groupby(level=1).sum().\n",
      "  allergens = (data.Allergen.str.split('\\s*,\\s*', expand=True)\n"
     ]
    },
    {
     "data": {
      "text/html": [
       "<div>\n",
       "<style scoped>\n",
       "    .dataframe tbody tr th:only-of-type {\n",
       "        vertical-align: middle;\n",
       "    }\n",
       "\n",
       "    .dataframe tbody tr th {\n",
       "        vertical-align: top;\n",
       "    }\n",
       "\n",
       "    .dataframe thead th {\n",
       "        text-align: right;\n",
       "    }\n",
       "</style>\n",
       "<table border=\"1\" class=\"dataframe\">\n",
       "  <thead>\n",
       "    <tr style=\"text-align: right;\">\n",
       "      <th></th>\n",
       "      <th>Caffeine</th>\n",
       "      <th>Citrus</th>\n",
       "      <th>Dairy</th>\n",
       "      <th>Egg</th>\n",
       "      <th>Onions</th>\n",
       "      <th>Spice</th>\n",
       "      <th>Starch</th>\n",
       "      <th>Starch - breads and grains</th>\n",
       "      <th>Sugar</th>\n",
       "      <th>Tomato</th>\n",
       "    </tr>\n",
       "  </thead>\n",
       "  <tbody>\n",
       "    <tr>\n",
       "      <th>0</th>\n",
       "      <td>1</td>\n",
       "      <td>0</td>\n",
       "      <td>1</td>\n",
       "      <td>1</td>\n",
       "      <td>1</td>\n",
       "      <td>1</td>\n",
       "      <td>1</td>\n",
       "      <td>0</td>\n",
       "      <td>0</td>\n",
       "      <td>0</td>\n",
       "    </tr>\n",
       "    <tr>\n",
       "      <th>1</th>\n",
       "      <td>0</td>\n",
       "      <td>0</td>\n",
       "      <td>0</td>\n",
       "      <td>0</td>\n",
       "      <td>1</td>\n",
       "      <td>1</td>\n",
       "      <td>0</td>\n",
       "      <td>0</td>\n",
       "      <td>0</td>\n",
       "      <td>0</td>\n",
       "    </tr>\n",
       "    <tr>\n",
       "      <th>2</th>\n",
       "      <td>0</td>\n",
       "      <td>0</td>\n",
       "      <td>1</td>\n",
       "      <td>0</td>\n",
       "      <td>1</td>\n",
       "      <td>1</td>\n",
       "      <td>1</td>\n",
       "      <td>0</td>\n",
       "      <td>0</td>\n",
       "      <td>1</td>\n",
       "    </tr>\n",
       "    <tr>\n",
       "      <th>3</th>\n",
       "      <td>0</td>\n",
       "      <td>0</td>\n",
       "      <td>0</td>\n",
       "      <td>0</td>\n",
       "      <td>0</td>\n",
       "      <td>0</td>\n",
       "      <td>1</td>\n",
       "      <td>0</td>\n",
       "      <td>0</td>\n",
       "      <td>0</td>\n",
       "    </tr>\n",
       "    <tr>\n",
       "      <th>4</th>\n",
       "      <td>0</td>\n",
       "      <td>0</td>\n",
       "      <td>1</td>\n",
       "      <td>0</td>\n",
       "      <td>1</td>\n",
       "      <td>1</td>\n",
       "      <td>1</td>\n",
       "      <td>0</td>\n",
       "      <td>0</td>\n",
       "      <td>1</td>\n",
       "    </tr>\n",
       "  </tbody>\n",
       "</table>\n",
       "</div>"
      ],
      "text/plain": [
       "   Caffeine  Citrus  Dairy  Egg  Onions  Spice  Starch  \\\n",
       "0         1       0      1    1       1      1       1   \n",
       "1         0       0      0    0       1      1       0   \n",
       "2         0       0      1    0       1      1       1   \n",
       "3         0       0      0    0       0      0       1   \n",
       "4         0       0      1    0       1      1       1   \n",
       "\n",
       "   Starch - breads and grains  Sugar  Tomato  \n",
       "0                           0      0       0  \n",
       "1                           0      0       0  \n",
       "2                           0      0       1  \n",
       "3                           0      0       0  \n",
       "4                           0      0       1  "
      ]
     },
     "execution_count": 56,
     "metadata": {},
     "output_type": "execute_result"
    }
   ],
   "source": [
    "allergens = (data.Allergen.str.split('\\s*,\\s*', expand=True)\n",
    "   .stack()\n",
    "   .str.get_dummies()\n",
    "   .sum(level=0))\n",
    "\n",
    "allergens.head()"
   ]
  },
  {
   "cell_type": "code",
   "execution_count": 57,
   "id": "b4dab6ea-a710-4e5f-8088-606c39f84eaf",
   "metadata": {},
   "outputs": [
    {
     "data": {
      "text/html": [
       "<div>\n",
       "<style scoped>\n",
       "    .dataframe tbody tr th:only-of-type {\n",
       "        vertical-align: middle;\n",
       "    }\n",
       "\n",
       "    .dataframe tbody tr th {\n",
       "        vertical-align: top;\n",
       "    }\n",
       "\n",
       "    .dataframe thead th {\n",
       "        text-align: right;\n",
       "    }\n",
       "</style>\n",
       "<table border=\"1\" class=\"dataframe\">\n",
       "  <thead>\n",
       "    <tr style=\"text-align: right;\">\n",
       "      <th></th>\n",
       "      <th>Timestamp</th>\n",
       "      <th>Todays Date</th>\n",
       "      <th>What did you eat</th>\n",
       "      <th>How much did you like it?</th>\n",
       "      <th>Allergen</th>\n",
       "      <th>Back pain</th>\n",
       "      <th>Headache</th>\n",
       "      <th>Sleep</th>\n",
       "      <th>Breathing</th>\n",
       "      <th>Bloated</th>\n",
       "      <th>...</th>\n",
       "      <th>Caffeine</th>\n",
       "      <th>Citrus</th>\n",
       "      <th>Dairy</th>\n",
       "      <th>Egg</th>\n",
       "      <th>Onions</th>\n",
       "      <th>Spice</th>\n",
       "      <th>Starch</th>\n",
       "      <th>Starch - breads and grains</th>\n",
       "      <th>Sugar</th>\n",
       "      <th>Tomato</th>\n",
       "    </tr>\n",
       "  </thead>\n",
       "  <tbody>\n",
       "    <tr>\n",
       "      <th>0</th>\n",
       "      <td>08/10/2021 23:19:19</td>\n",
       "      <td>08/10/2021</td>\n",
       "      <td>Egg and Spicy Cheese bread</td>\n",
       "      <td>NaN</td>\n",
       "      <td>Starch, Dairy, Onions, Spice, Caffeine, Egg</td>\n",
       "      <td>1</td>\n",
       "      <td>1</td>\n",
       "      <td>1</td>\n",
       "      <td>1</td>\n",
       "      <td>5</td>\n",
       "      <td>...</td>\n",
       "      <td>1.0</td>\n",
       "      <td>0.0</td>\n",
       "      <td>1.0</td>\n",
       "      <td>1.0</td>\n",
       "      <td>1.0</td>\n",
       "      <td>1.0</td>\n",
       "      <td>1.0</td>\n",
       "      <td>0.0</td>\n",
       "      <td>0.0</td>\n",
       "      <td>0.0</td>\n",
       "    </tr>\n",
       "    <tr>\n",
       "      <th>1</th>\n",
       "      <td>08/10/2021 23:21:58</td>\n",
       "      <td>08/10/2021</td>\n",
       "      <td>Tom Yum and fried potatoes</td>\n",
       "      <td>NaN</td>\n",
       "      <td>Onions, Spice</td>\n",
       "      <td>1</td>\n",
       "      <td>1</td>\n",
       "      <td>1</td>\n",
       "      <td>1</td>\n",
       "      <td>1</td>\n",
       "      <td>...</td>\n",
       "      <td>0.0</td>\n",
       "      <td>0.0</td>\n",
       "      <td>0.0</td>\n",
       "      <td>0.0</td>\n",
       "      <td>1.0</td>\n",
       "      <td>1.0</td>\n",
       "      <td>0.0</td>\n",
       "      <td>0.0</td>\n",
       "      <td>0.0</td>\n",
       "      <td>0.0</td>\n",
       "    </tr>\n",
       "    <tr>\n",
       "      <th>2</th>\n",
       "      <td>08/10/2021 23:22:54</td>\n",
       "      <td>08/10/2021</td>\n",
       "      <td>Cheese rice and Lentil Dahl</td>\n",
       "      <td>NaN</td>\n",
       "      <td>Starch, Dairy, Onions, Spice, Tomato</td>\n",
       "      <td>1</td>\n",
       "      <td>1</td>\n",
       "      <td>1</td>\n",
       "      <td>1</td>\n",
       "      <td>3</td>\n",
       "      <td>...</td>\n",
       "      <td>0.0</td>\n",
       "      <td>0.0</td>\n",
       "      <td>1.0</td>\n",
       "      <td>0.0</td>\n",
       "      <td>1.0</td>\n",
       "      <td>1.0</td>\n",
       "      <td>1.0</td>\n",
       "      <td>0.0</td>\n",
       "      <td>0.0</td>\n",
       "      <td>1.0</td>\n",
       "    </tr>\n",
       "    <tr>\n",
       "      <th>3</th>\n",
       "      <td>08/10/2021 23:23:23</td>\n",
       "      <td>08/10/2021</td>\n",
       "      <td>Popcorn</td>\n",
       "      <td>NaN</td>\n",
       "      <td>Starch</td>\n",
       "      <td>1</td>\n",
       "      <td>2</td>\n",
       "      <td>1</td>\n",
       "      <td>1</td>\n",
       "      <td>3</td>\n",
       "      <td>...</td>\n",
       "      <td>0.0</td>\n",
       "      <td>0.0</td>\n",
       "      <td>0.0</td>\n",
       "      <td>0.0</td>\n",
       "      <td>0.0</td>\n",
       "      <td>0.0</td>\n",
       "      <td>1.0</td>\n",
       "      <td>0.0</td>\n",
       "      <td>0.0</td>\n",
       "      <td>0.0</td>\n",
       "    </tr>\n",
       "    <tr>\n",
       "      <th>4</th>\n",
       "      <td>09/10/2021 12:36:25</td>\n",
       "      <td>09/10/2021</td>\n",
       "      <td>Dahl and cheese rice</td>\n",
       "      <td>NaN</td>\n",
       "      <td>Starch, Dairy, Onions, Spice, Tomato</td>\n",
       "      <td>2</td>\n",
       "      <td>2</td>\n",
       "      <td>1</td>\n",
       "      <td>1</td>\n",
       "      <td>3</td>\n",
       "      <td>...</td>\n",
       "      <td>0.0</td>\n",
       "      <td>0.0</td>\n",
       "      <td>1.0</td>\n",
       "      <td>0.0</td>\n",
       "      <td>1.0</td>\n",
       "      <td>1.0</td>\n",
       "      <td>1.0</td>\n",
       "      <td>0.0</td>\n",
       "      <td>0.0</td>\n",
       "      <td>1.0</td>\n",
       "    </tr>\n",
       "  </tbody>\n",
       "</table>\n",
       "<p>5 rows × 23 columns</p>\n",
       "</div>"
      ],
      "text/plain": [
       "             Timestamp Todays Date             What did you eat  \\\n",
       "0  08/10/2021 23:19:19  08/10/2021   Egg and Spicy Cheese bread   \n",
       "1  08/10/2021 23:21:58  08/10/2021   Tom Yum and fried potatoes   \n",
       "2  08/10/2021 23:22:54  08/10/2021  Cheese rice and Lentil Dahl   \n",
       "3  08/10/2021 23:23:23  08/10/2021                      Popcorn   \n",
       "4  09/10/2021 12:36:25  09/10/2021         Dahl and cheese rice   \n",
       "\n",
       "   How much did you like it?                                     Allergen  \\\n",
       "0                        NaN  Starch, Dairy, Onions, Spice, Caffeine, Egg   \n",
       "1                        NaN                                Onions, Spice   \n",
       "2                        NaN         Starch, Dairy, Onions, Spice, Tomato   \n",
       "3                        NaN                                       Starch   \n",
       "4                        NaN         Starch, Dairy, Onions, Spice, Tomato   \n",
       "\n",
       "   Back pain  Headache  Sleep  Breathing  Bloated  ...  Caffeine  Citrus  \\\n",
       "0          1         1      1          1        5  ...       1.0     0.0   \n",
       "1          1         1      1          1        1  ...       0.0     0.0   \n",
       "2          1         1      1          1        3  ...       0.0     0.0   \n",
       "3          1         2      1          1        3  ...       0.0     0.0   \n",
       "4          2         2      1          1        3  ...       0.0     0.0   \n",
       "\n",
       "   Dairy  Egg  Onions  Spice  Starch  Starch - breads and grains  Sugar  \\\n",
       "0    1.0  1.0     1.0    1.0     1.0                         0.0    0.0   \n",
       "1    0.0  0.0     1.0    1.0     0.0                         0.0    0.0   \n",
       "2    1.0  0.0     1.0    1.0     1.0                         0.0    0.0   \n",
       "3    0.0  0.0     0.0    0.0     1.0                         0.0    0.0   \n",
       "4    1.0  0.0     1.0    1.0     1.0                         0.0    0.0   \n",
       "\n",
       "   Tomato  \n",
       "0     0.0  \n",
       "1     0.0  \n",
       "2     1.0  \n",
       "3     0.0  \n",
       "4     1.0  \n",
       "\n",
       "[5 rows x 23 columns]"
      ]
     },
     "execution_count": 57,
     "metadata": {},
     "output_type": "execute_result"
    }
   ],
   "source": [
    "# then we concat this onto our orrignal data\n",
    "data = pd.concat([data, allergens], axis=1).reindex(data.index)\n",
    "data.head()"
   ]
  },
  {
   "cell_type": "markdown",
   "id": "d3a02149-c2d4-4fcb-8a2f-67ff5f145913",
   "metadata": {},
   "source": [
    "## The Dairy hunch"
   ]
  },
  {
   "cell_type": "code",
   "execution_count": 58,
   "id": "c6458618-9c2a-4f1c-874c-9e7d036460ce",
   "metadata": {},
   "outputs": [
    {
     "data": {
      "text/html": [
       "<style type=\"text/css\">\n",
       "#T_36075_row0_col0, #T_36075_row1_col1, #T_36075_row2_col2 {\n",
       "  background-color: #b40426;\n",
       "  color: #f1f1f1;\n",
       "}\n",
       "#T_36075_row0_col1 {\n",
       "  background-color: #f7ba9f;\n",
       "  color: #000000;\n",
       "}\n",
       "#T_36075_row0_col2 {\n",
       "  background-color: #b2ccfb;\n",
       "  color: #000000;\n",
       "}\n",
       "#T_36075_row1_col0 {\n",
       "  background-color: #d4dbe6;\n",
       "  color: #000000;\n",
       "}\n",
       "#T_36075_row1_col2, #T_36075_row2_col0, #T_36075_row2_col1 {\n",
       "  background-color: #3b4cc0;\n",
       "  color: #f1f1f1;\n",
       "}\n",
       "</style>\n",
       "<table id=\"T_36075_\">\n",
       "  <thead>\n",
       "    <tr>\n",
       "      <th class=\"blank level0\" >&nbsp;</th>\n",
       "      <th class=\"col_heading level0 col0\" >Bloated</th>\n",
       "      <th class=\"col_heading level0 col1\" >Stomach Pain</th>\n",
       "      <th class=\"col_heading level0 col2\" >Dairy</th>\n",
       "    </tr>\n",
       "  </thead>\n",
       "  <tbody>\n",
       "    <tr>\n",
       "      <th id=\"T_36075_level0_row0\" class=\"row_heading level0 row0\" >Bloated</th>\n",
       "      <td id=\"T_36075_row0_col0\" class=\"data row0 col0\" >1.000000</td>\n",
       "      <td id=\"T_36075_row0_col1\" class=\"data row0 col1\" >0.760077</td>\n",
       "      <td id=\"T_36075_row0_col2\" class=\"data row0 col2\" >0.551440</td>\n",
       "    </tr>\n",
       "    <tr>\n",
       "      <th id=\"T_36075_level0_row1\" class=\"row_heading level0 row1\" >Stomach Pain</th>\n",
       "      <td id=\"T_36075_row1_col0\" class=\"data row1 col0\" >0.760077</td>\n",
       "      <td id=\"T_36075_row1_col1\" class=\"data row1 col1\" >1.000000</td>\n",
       "      <td id=\"T_36075_row1_col2\" class=\"data row1 col2\" >0.301707</td>\n",
       "    </tr>\n",
       "    <tr>\n",
       "      <th id=\"T_36075_level0_row2\" class=\"row_heading level0 row2\" >Dairy</th>\n",
       "      <td id=\"T_36075_row2_col0\" class=\"data row2 col0\" >0.551440</td>\n",
       "      <td id=\"T_36075_row2_col1\" class=\"data row2 col1\" >0.301707</td>\n",
       "      <td id=\"T_36075_row2_col2\" class=\"data row2 col2\" >1.000000</td>\n",
       "    </tr>\n",
       "  </tbody>\n",
       "</table>\n"
      ],
      "text/plain": [
       "<pandas.io.formats.style.Styler at 0x7f7f394b32b0>"
      ]
     },
     "execution_count": 58,
     "metadata": {},
     "output_type": "execute_result"
    }
   ],
   "source": [
    "# My hunch is that dairy causes my bloating\n",
    "corr = data[['Bloated','Stomach Pain','Dairy']].corr()\n",
    "corr.style.background_gradient(cmap='coolwarm')"
   ]
  },
  {
   "cell_type": "markdown",
   "id": "95de3025-b021-4138-95c7-81acdd4f8ed1",
   "metadata": {},
   "source": [
    "My hunch is that dairy causes my bloating, and tummy pain.\n",
    "\n",
    "To interpret the above, each condition correlates with itself. For example\n",
    "\"I am am bloated, then I am bloated\" is always true.\n",
    "\n",
    "Correlation will score from 0 (uncorrelated) to 1 (entirely correlated). A big question here is that does dairy actually cause these issues, or are my meals with dairy generally \"unhealthy\" meals like cheeseburgers, pizzas that contain something like bread, oils, spice etc.\n",
    "\n",
    "We see here that My stomach pain largely correlates with dairy consumption."
   ]
  },
  {
   "cell_type": "code",
   "execution_count": 59,
   "id": "1cd7dc26-0ae0-4569-a0e6-be2be3e528ef",
   "metadata": {},
   "outputs": [
    {
     "data": {
      "text/html": [
       "<style type=\"text/css\">\n",
       "#T_51020_row0_col0, #T_51020_row1_col1, #T_51020_row2_col2, #T_51020_row3_col3 {\n",
       "  background-color: #b40426;\n",
       "  color: #f1f1f1;\n",
       "}\n",
       "#T_51020_row0_col1 {\n",
       "  background-color: #ee8669;\n",
       "  color: #f1f1f1;\n",
       "}\n",
       "#T_51020_row0_col2 {\n",
       "  background-color: #e9d5cb;\n",
       "  color: #000000;\n",
       "}\n",
       "#T_51020_row0_col3 {\n",
       "  background-color: #455cce;\n",
       "  color: #f1f1f1;\n",
       "}\n",
       "#T_51020_row1_col0 {\n",
       "  background-color: #f08a6c;\n",
       "  color: #f1f1f1;\n",
       "}\n",
       "#T_51020_row1_col2 {\n",
       "  background-color: #9ebeff;\n",
       "  color: #000000;\n",
       "}\n",
       "#T_51020_row1_col3, #T_51020_row3_col0, #T_51020_row3_col1, #T_51020_row3_col2 {\n",
       "  background-color: #3b4cc0;\n",
       "  color: #f1f1f1;\n",
       "}\n",
       "#T_51020_row2_col0 {\n",
       "  background-color: #f2cab5;\n",
       "  color: #000000;\n",
       "}\n",
       "#T_51020_row2_col1 {\n",
       "  background-color: #c1d4f4;\n",
       "  color: #000000;\n",
       "}\n",
       "#T_51020_row2_col3 {\n",
       "  background-color: #6a8bef;\n",
       "  color: #f1f1f1;\n",
       "}\n",
       "</style>\n",
       "<table id=\"T_51020_\">\n",
       "  <thead>\n",
       "    <tr>\n",
       "      <th class=\"blank level0\" >&nbsp;</th>\n",
       "      <th class=\"col_heading level0 col0\" >Bloated</th>\n",
       "      <th class=\"col_heading level0 col1\" >Stomach Pain</th>\n",
       "      <th class=\"col_heading level0 col2\" >Dairy</th>\n",
       "      <th class=\"col_heading level0 col3\" >Starch - breads and grains</th>\n",
       "    </tr>\n",
       "  </thead>\n",
       "  <tbody>\n",
       "    <tr>\n",
       "      <th id=\"T_51020_level0_row0\" class=\"row_heading level0 row0\" >Bloated</th>\n",
       "      <td id=\"T_51020_row0_col0\" class=\"data row0 col0\" >1.000000</td>\n",
       "      <td id=\"T_51020_row0_col1\" class=\"data row0 col1\" >0.760077</td>\n",
       "      <td id=\"T_51020_row0_col2\" class=\"data row0 col2\" >0.551440</td>\n",
       "      <td id=\"T_51020_row0_col3\" class=\"data row0 col3\" >-0.131120</td>\n",
       "    </tr>\n",
       "    <tr>\n",
       "      <th id=\"T_51020_level0_row1\" class=\"row_heading level0 row1\" >Stomach Pain</th>\n",
       "      <td id=\"T_51020_row1_col0\" class=\"data row1 col0\" >0.760077</td>\n",
       "      <td id=\"T_51020_row1_col1\" class=\"data row1 col1\" >1.000000</td>\n",
       "      <td id=\"T_51020_row1_col2\" class=\"data row1 col2\" >0.301707</td>\n",
       "      <td id=\"T_51020_row1_col3\" class=\"data row1 col3\" >-0.172700</td>\n",
       "    </tr>\n",
       "    <tr>\n",
       "      <th id=\"T_51020_level0_row2\" class=\"row_heading level0 row2\" >Dairy</th>\n",
       "      <td id=\"T_51020_row2_col0\" class=\"data row2 col0\" >0.551440</td>\n",
       "      <td id=\"T_51020_row2_col1\" class=\"data row2 col1\" >0.301707</td>\n",
       "      <td id=\"T_51020_row2_col2\" class=\"data row2 col2\" >1.000000</td>\n",
       "      <td id=\"T_51020_row2_col3\" class=\"data row2 col3\" >0.005764</td>\n",
       "    </tr>\n",
       "    <tr>\n",
       "      <th id=\"T_51020_level0_row3\" class=\"row_heading level0 row3\" >Starch - breads and grains</th>\n",
       "      <td id=\"T_51020_row3_col0\" class=\"data row3 col0\" >-0.131120</td>\n",
       "      <td id=\"T_51020_row3_col1\" class=\"data row3 col1\" >-0.172700</td>\n",
       "      <td id=\"T_51020_row3_col2\" class=\"data row3 col2\" >0.005764</td>\n",
       "      <td id=\"T_51020_row3_col3\" class=\"data row3 col3\" >1.000000</td>\n",
       "    </tr>\n",
       "  </tbody>\n",
       "</table>\n"
      ],
      "text/plain": [
       "<pandas.io.formats.style.Styler at 0x7f7f3923bee0>"
      ]
     },
     "execution_count": 59,
     "metadata": {},
     "output_type": "execute_result"
    }
   ],
   "source": [
    "corr = data[['Bloated','Stomach Pain','Dairy', 'Starch - breads and grains']].corr()\n",
    "corr.style.background_gradient(cmap='coolwarm')"
   ]
  },
  {
   "cell_type": "markdown",
   "id": "246f34da-8fb7-4336-bf96-abfe1d06c54d",
   "metadata": {},
   "source": [
    "Now we are seeing that Bread seems to have a slight negative correlation with my tummy pains. Bizarre as I would expect pizzas and cheeseburgers to make my tummy hurt. It might help to look at some of my bready and cheesy meals."
   ]
  },
  {
   "cell_type": "markdown",
   "id": "27b78173-ddd9-4e19-8a3c-8bd5e4191500",
   "metadata": {},
   "source": [
    "## Could it be bread?"
   ]
  },
  {
   "cell_type": "code",
   "execution_count": 66,
   "id": "24cb6bd0-c016-43fd-ba9e-300fd5bfd954",
   "metadata": {},
   "outputs": [
    {
     "data": {
      "text/plain": [
       "57"
      ]
     },
     "execution_count": 66,
     "metadata": {},
     "output_type": "execute_result"
    }
   ],
   "source": [
    "# Computer, show me the data where my meal contained bread.\n",
    "len(data[data['Starch - breads and grains'] == 1])"
   ]
  },
  {
   "cell_type": "markdown",
   "id": "7a6fa04c-8b1d-4ad8-8b17-6714db5fec40",
   "metadata": {},
   "source": [
    "Okay I only really managed to eat 9 meals over this period that didn't contain some sort of starch or bread so I have a pretty rubbish sample size here."
   ]
  },
  {
   "cell_type": "code",
   "execution_count": 93,
   "id": "2b1fcfd0-a71a-4a35-8bc9-1e2914839f3e",
   "metadata": {},
   "outputs": [
    {
     "data": {
      "text/plain": [
       "<AxesSubplot:title={'center':'Tummy pain across meals including starch'}>"
      ]
     },
     "execution_count": 93,
     "metadata": {},
     "output_type": "execute_result"
    },
    {
     "data": {
      "image/png": "[encoded data removed]",
      "text/plain": [
       "<Figure size 864x576 with 1 Axes>"
      ]
     },
     "metadata": {},
     "output_type": "display_data"
    }
   ],
   "source": [
    "data[data['Starch - breads and grains'] == 1]['Stomach Pain'].value_counts().sort_index().plot(kind='bar', title='Tummy pain across meals including starch')"
   ]
  },
  {
   "cell_type": "code",
   "execution_count": 94,
   "id": "5a7c5937-d744-4ade-9161-5a30cc552612",
   "metadata": {},
   "outputs": [
    {
     "data": {
      "text/plain": [
       "<AxesSubplot:title={'center':'Tummy pain across meals not including starch'}>"
      ]
     },
     "execution_count": 94,
     "metadata": {},
     "output_type": "execute_result"
    },
    {
     "data": {
      "image/png": "[encoded data removed]",
      "text/plain": [
       "<Figure size 864x576 with 1 Axes>"
      ]
     },
     "metadata": {},
     "output_type": "display_data"
    }
   ],
   "source": [
    "data[data['Starch - breads and grains'] == 0]['Stomach Pain'].value_counts().sort_index().plot(kind='bar', title='Tummy pain across meals not including starch')"
   ]
  },
  {
   "cell_type": "markdown",
   "id": "e39d6bf2-d690-4010-ad61-57e0409c1018",
   "metadata": {},
   "source": [
    "My tummy pain seems to drop when I do eat starchy/gluteny foods. This lines up with the correlation plot again, but may just be a symptom of low sample size and oversimplicity of how the body works. I may be responding still to foods I ate in the previous meal, or snacks I had.\n",
    "\n",
    "Let's try the same with Dairy though."
   ]
  },
  {
   "cell_type": "markdown",
   "id": "f91d3393-0c92-4a09-aa58-e63aadbfc0f5",
   "metadata": {
    "tags": []
   },
   "source": [
    "## Dairy sample size"
   ]
  },
  {
   "cell_type": "code",
   "execution_count": 96,
   "id": "3b5df591-8580-45d0-bcfa-5ceeed65e287",
   "metadata": {},
   "outputs": [
    {
     "data": {
      "text/plain": [
       "33"
      ]
     },
     "execution_count": 96,
     "metadata": {},
     "output_type": "execute_result"
    }
   ],
   "source": [
    "# Computer, show me the data where my meal contained bread.\n",
    "len(data[data['Dairy'] == 1])"
   ]
  },
  {
   "cell_type": "markdown",
   "id": "9abcaa60-8bd9-4b99-8415-fdac8dce6cd2",
   "metadata": {},
   "source": [
    "I did actually manage to cut down on dairy quite a bit, this includes even the use of butter or milk in recipes, though half my meals did contain dairy so exclusion was rarely long lived."
   ]
  },
  {
   "cell_type": "code",
   "execution_count": 98,
   "id": "8f7cef26-fa29-4adb-81db-48fcca507206",
   "metadata": {},
   "outputs": [
    {
     "data": {
      "text/plain": [
       "<AxesSubplot:title={'center':'Tummy pain across meals including dairy'}>"
      ]
     },
     "execution_count": 98,
     "metadata": {},
     "output_type": "execute_result"
    },
    {
     "data": {
      "image/png": "[encoded data removed]",
      "text/plain": [
       "<Figure size 864x576 with 1 Axes>"
      ]
     },
     "metadata": {},
     "output_type": "display_data"
    }
   ],
   "source": [
    "data[data['Dairy'] == 1]['Stomach Pain'].value_counts().sort_index().plot(kind='bar', title='Tummy pain across meals including dairy')"
   ]
  },
  {
   "cell_type": "code",
   "execution_count": 99,
   "id": "9f561c47-adc3-4b0f-a002-7fe462b04085",
   "metadata": {},
   "outputs": [
    {
     "data": {
      "text/plain": [
       "<AxesSubplot:title={'center':'Tummy pain across meals not including dairy'}>"
      ]
     },
     "execution_count": 99,
     "metadata": {},
     "output_type": "execute_result"
    },
    {
     "data": {
      "image/png": "[encoded data removed]",
      "text/plain": [
       "<Figure size 864x576 with 1 Axes>"
      ]
     },
     "metadata": {},
     "output_type": "display_data"
    }
   ],
   "source": [
    "data[data['Dairy'] == 0]['Stomach Pain'].value_counts().sort_index().plot(kind='bar', title='Tummy pain across meals not including dairy')\n"
   ]
  },
  {
   "cell_type": "markdown",
   "id": "9e36e809-d810-4e9a-bd3c-6605c3f7d5ea",
   "metadata": {},
   "source": [
    "The disbtribution here is roughly the same, my tummy seems to hurt on average. But when I eat dairy it's more likely to hurt a lot! And much less likely to not hurt at all."
   ]
  }
 ],
 "metadata": {
  "kernelspec": {
   "display_name": "Python 3 (ipykernel)",
   "language": "python",
   "name": "python3"
  },
  "language_info": {
   "codemirror_mode": {
    "name": "ipython",
    "version": 3
   },
   "file_extension": ".py",
   "mimetype": "text/x-python",
   "name": "python",
   "nbconvert_exporter": "python",
   "pygments_lexer": "ipython3",
   "version": "3.9.7"
  }
 },
 "nbformat": 4,
 "nbformat_minor": 5
}
